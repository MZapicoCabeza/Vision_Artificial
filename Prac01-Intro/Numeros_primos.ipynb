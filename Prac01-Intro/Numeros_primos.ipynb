{
 "cells": [
  {
   "cell_type": "code",
   "execution_count": null,
   "metadata": {},
   "outputs": [],
   "source": [
    "n = 0\n",
    "numero_primos = 0\n",
    "\n",
    "while n <= 1234567:\n",
    "    if n < 2:\n",
    "        sol = 0\n",
    "    else:\n",
    "        sol = 1\n",
    "        for i in range(2, int(n**0.5) + 1):\n",
    "            if n % i == 0:\n",
    "                sol = 0\n",
    "                break  \n",
    "    numero_primos += sol\n",
    "    n += 1\n",
    "\n",
    "print(numero_primos)"
   ]
  }
 ],
 "metadata": {
  "language_info": {
   "name": "python"
  }
 },
 "nbformat": 4,
 "nbformat_minor": 2
}
