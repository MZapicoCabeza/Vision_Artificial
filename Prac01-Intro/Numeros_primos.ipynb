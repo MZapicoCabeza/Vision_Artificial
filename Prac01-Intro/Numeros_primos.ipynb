{
 "cells": [
  {
   "cell_type": "code",
   "execution_count": 4,
   "metadata": {},
   "outputs": [
    {
     "name": "stdout",
     "output_type": "stream",
     "text": [
      "95360\n"
     ]
    }
   ],
   "source": [
    "n = 0\n",
    "numero_primos = 0\n",
    "\n",
    "while n <= 1234567:\n",
    "    if n < 2:\n",
    "        sol = 0\n",
    "    else:\n",
    "        sol = 1\n",
    "        for i in range(2, int(n**0.5) + 1):\n",
    "            if n % i == 0:\n",
    "                sol = 0\n",
    "                break  \n",
    "    numero_primos += sol\n",
    "    n += 1\n",
    "\n",
    "print(numero_primos)"
   ]
  },
  {
   "cell_type": "code",
   "execution_count": 3,
   "metadata": {},
   "outputs": [
    {
     "name": "stdout",
     "output_type": "stream",
     "text": [
      "Numpy version: 1.26.3\n"
     ]
    }
   ],
   "source": [
    "import numpy as np\n",
    "\n",
    "print(f\"Numpy version: {np.__version__}\")"
   ]
  },
  {
   "cell_type": "code",
   "execution_count": 32,
   "metadata": {},
   "outputs": [
    {
     "name": "stdout",
     "output_type": "stream",
     "text": [
      "[[0.8831308  0.64808447 0.43126963 ... 0.72078064 0.7978612  0.48125977]\n",
      " [0.30541268 0.80920743 0.75603592 ... 0.14973835 0.66570702 0.6847077 ]\n",
      " [0.74478578 0.14312109 0.86616275 ... 0.59507946 0.2718102  0.79592092]\n",
      " ...\n",
      " [0.00360102 0.44271841 0.37610723 ... 0.01055201 0.16921901 0.64954439]\n",
      " [0.38550566 0.01172435 0.6018648  ... 0.51789674 0.62100561 0.76128904]\n",
      " [0.59409925 0.80991901 0.12607552 ... 0.16808522 0.66989115 0.85785112]]\n"
     ]
    }
   ],
   "source": [
    "m_al = np.random.rand(1000, 10000)\n",
    "print(m_al)"
   ]
  },
  {
   "cell_type": "markdown",
   "metadata": {},
   "source": [
    "Elemento a elemento"
   ]
  },
  {
   "cell_type": "code",
   "execution_count": 33,
   "metadata": {},
   "outputs": [
    {
     "name": "stdout",
     "output_type": "stream",
     "text": [
      "[[1.76626159 1.29616894 0.86253926 ... 1.44156127 1.59572241 0.96251954]\n",
      " [0.61082535 1.61841486 1.51207184 ... 0.2994767  1.33141404 1.36941541]\n",
      " [1.48957157 0.28624218 1.7323255  ... 1.19015892 0.54362041 1.59184184]\n",
      " ...\n",
      " [0.00720204 0.88543681 0.75221446 ... 0.02110402 0.33843802 1.29908878]\n",
      " [0.77101131 0.0234487  1.20372959 ... 1.03579348 1.24201121 1.52257808]\n",
      " [1.18819849 1.61983803 0.25215103 ... 0.33617044 1.33978229 1.71570224]]\n",
      "[[1.76626159 1.29616894 0.86253926 ... 1.44156127 1.59572241 0.96251954]\n",
      " [0.61082535 1.61841486 1.51207184 ... 0.2994767  1.33141404 1.36941541]\n",
      " [1.48957157 0.28624218 1.7323255  ... 1.19015892 0.54362041 1.59184184]\n",
      " ...\n",
      " [0.00720204 0.88543681 0.75221446 ... 0.02110402 0.33843802 1.29908878]\n",
      " [0.77101131 0.0234487  1.20372959 ... 1.03579348 1.24201121 1.52257808]\n",
      " [1.18819849 1.61983803 0.25215103 ... 0.33617044 1.33978229 1.71570224]]\n"
     ]
    }
   ],
   "source": [
    "def elemento_por_dos(m):\n",
    "    m1=m\n",
    "    tamaño_matriz = m1.shape\n",
    "    for i in range (0,tamaño_matriz[0]):\n",
    "        for j in range (0,tamaño_matriz[1]):\n",
    "            m1[i,j]*=2\n",
    "    return(m1)\n",
    "\n",
    "m1=elemento_por_dos(m_al)\n",
    "print(m1)\n",
    "print(m_al)\n",
    "#2.2 segundos"
   ]
  },
  {
   "cell_type": "code",
   "execution_count": 27,
   "metadata": {},
   "outputs": [
    {
     "name": "stdout",
     "output_type": "stream",
     "text": [
      "[[2.77738276 2.54662542 1.28833149 ... 0.06341285 2.3832021  1.80068656]\n",
      " [0.2367891  0.0943759  3.24015044 ... 1.53539183 2.21698062 0.94438557]\n",
      " [1.79018042 0.77418275 0.47193542 ... 0.02020677 0.43215015 1.50320654]\n",
      " ...\n",
      " [3.17345545 2.80905607 1.9357487  ... 2.00489742 3.12602752 1.61394113]\n",
      " [3.28626423 1.60531172 0.73431515 ... 1.87761389 2.45619126 3.0211478 ]\n",
      " [1.35516891 3.7640623  3.8108619  ... 3.0094888  1.8595775  3.32788402]]\n"
     ]
    }
   ],
   "source": [
    "def todo_dos(m):\n",
    "    m1 = m * 2\n",
    "    print(m1)\n",
    "\n",
    "todo_dos(m_al)\n",
    "#0.0"
   ]
  }
 ],
 "metadata": {
  "kernelspec": {
   "display_name": "maria_VA",
   "language": "python",
   "name": "python3"
  },
  "language_info": {
   "codemirror_mode": {
    "name": "ipython",
    "version": 3
   },
   "file_extension": ".py",
   "mimetype": "text/x-python",
   "name": "python",
   "nbconvert_exporter": "python",
   "pygments_lexer": "ipython3",
   "version": "3.11.4"
  }
 },
 "nbformat": 4,
 "nbformat_minor": 2
}
