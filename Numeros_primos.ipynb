{
  "cells": [
    {
      "cell_type": "code",
      "execution_count": 2,
      "metadata": {
        "id": "yLZqk5f0N9ia",
        "outputId": "5db64439-cabe-4fcf-d3a4-d6a2657836f7"
      },
      "outputs": [
        {
          "name": "stdout",
          "output_type": "stream",
          "text": [
            "95360\n"
          ]
        }
      ],
      "source": [
        "n = 0\n",
        "numero_primos = 0\n",
        "\n",
        "while n <= 1234567:\n",
        "    if n < 2:\n",
        "        sol = 0\n",
        "    else:\n",
        "        sol = 1\n",
        "        for i in range(2, int(n**0.5) + 1):\n",
        "            if n % i == 0:\n",
        "                sol = 0\n",
        "                break\n",
        "    numero_primos += sol\n",
        "    n += 1\n",
        "\n",
        "print(numero_primos)"
      ]
    },
    {
      "cell_type": "code",
      "execution_count": 3,
      "metadata": {
        "id": "Mgt1oz_7N9ic",
        "outputId": "572f9ea1-0a8d-4cf9-b97b-52e635ac75fe"
      },
      "outputs": [
        {
          "name": "stdout",
          "output_type": "stream",
          "text": [
            "Numpy version: 1.26.3\n"
          ]
        }
      ],
      "source": [
        "import numpy as np\n",
        "\n",
        "print(f\"Numpy version: {np.__version__}\")"
      ]
    },
    {
      "cell_type": "code",
      "execution_count": null,
      "metadata": {
        "id": "Txy7jAdCN9ic",
        "outputId": "ac16de3e-3177-412f-f321-ea11a7abe7a2"
      },
      "outputs": [
        {
          "name": "stdout",
          "output_type": "stream",
          "text": [
            "[[0.8831308  0.64808447 0.43126963 ... 0.72078064 0.7978612  0.48125977]\n",
            " [0.30541268 0.80920743 0.75603592 ... 0.14973835 0.66570702 0.6847077 ]\n",
            " [0.74478578 0.14312109 0.86616275 ... 0.59507946 0.2718102  0.79592092]\n",
            " ...\n",
            " [0.00360102 0.44271841 0.37610723 ... 0.01055201 0.16921901 0.64954439]\n",
            " [0.38550566 0.01172435 0.6018648  ... 0.51789674 0.62100561 0.76128904]\n",
            " [0.59409925 0.80991901 0.12607552 ... 0.16808522 0.66989115 0.85785112]]\n"
          ]
        }
      ],
      "source": [
        "m_al = np.random.rand(1000, 10000)\n",
        "print(m_al)"
      ]
    },
    {
      "attachments": {},
      "cell_type": "markdown",
      "metadata": {
        "id": "Q4q-ZHbaN9ic"
      },
      "source": [
        "Elemento a elemento"
      ]
    },
    {
      "cell_type": "code",
      "execution_count": null,
      "metadata": {
        "id": "PTSPfQ9MN9id",
        "outputId": "82e323cb-481c-461b-a4bb-f14d49a85b00"
      },
      "outputs": [
        {
          "name": "stdout",
          "output_type": "stream",
          "text": [
            "[[1.76626159 1.29616894 0.86253926 ... 1.44156127 1.59572241 0.96251954]\n",
            " [0.61082535 1.61841486 1.51207184 ... 0.2994767  1.33141404 1.36941541]\n",
            " [1.48957157 0.28624218 1.7323255  ... 1.19015892 0.54362041 1.59184184]\n",
            " ...\n",
            " [0.00720204 0.88543681 0.75221446 ... 0.02110402 0.33843802 1.29908878]\n",
            " [0.77101131 0.0234487  1.20372959 ... 1.03579348 1.24201121 1.52257808]\n",
            " [1.18819849 1.61983803 0.25215103 ... 0.33617044 1.33978229 1.71570224]]\n",
            "[[1.76626159 1.29616894 0.86253926 ... 1.44156127 1.59572241 0.96251954]\n",
            " [0.61082535 1.61841486 1.51207184 ... 0.2994767  1.33141404 1.36941541]\n",
            " [1.48957157 0.28624218 1.7323255  ... 1.19015892 0.54362041 1.59184184]\n",
            " ...\n",
            " [0.00720204 0.88543681 0.75221446 ... 0.02110402 0.33843802 1.29908878]\n",
            " [0.77101131 0.0234487  1.20372959 ... 1.03579348 1.24201121 1.52257808]\n",
            " [1.18819849 1.61983803 0.25215103 ... 0.33617044 1.33978229 1.71570224]]\n"
          ]
        }
      ],
      "source": [
        "def elemento_por_dos(m):\n",
        "    m1=m\n",
        "    tamaño_matriz = m1.shape\n",
        "    for i in range (0,tamaño_matriz[0]):\n",
        "        for j in range (0,tamaño_matriz[1]):\n",
        "            m1[i,j]*=2\n",
        "    return(m1)\n",
        "\n",
        "m1=elemento_por_dos(m_al)\n",
        "print(m1)\n",
        "print(m_al)\n",
        "#2.2 segundos"
      ]
    },
    {
      "cell_type": "code",
      "execution_count": null,
      "metadata": {
        "id": "ivaeKU43N9id",
        "outputId": "8c164b79-a491-426a-8981-45133c74366e"
      },
      "outputs": [
        {
          "name": "stdout",
          "output_type": "stream",
          "text": [
            "[[2.77738276 2.54662542 1.28833149 ... 0.06341285 2.3832021  1.80068656]\n",
            " [0.2367891  0.0943759  3.24015044 ... 1.53539183 2.21698062 0.94438557]\n",
            " [1.79018042 0.77418275 0.47193542 ... 0.02020677 0.43215015 1.50320654]\n",
            " ...\n",
            " [3.17345545 2.80905607 1.9357487  ... 2.00489742 3.12602752 1.61394113]\n",
            " [3.28626423 1.60531172 0.73431515 ... 1.87761389 2.45619126 3.0211478 ]\n",
            " [1.35516891 3.7640623  3.8108619  ... 3.0094888  1.8595775  3.32788402]]\n"
          ]
        }
      ],
      "source": [
        "def todo_dos(m):\n",
        "    m1 = m * 2\n",
        "    print(m1)\n",
        "\n",
        "todo_dos(m_al)\n",
        "\n",
        "#0.0"
      ]
    },
    {
      "cell_type": "code",
      "execution_count": null,
      "metadata": {},
      "outputs": [],
      "source": []
    },
    {
      "cell_type": "code",
      "execution_count": 4,
      "metadata": {
        "colab": {
          "base_uri": "https://localhost:8080/"
        },
        "id": "tTzPSsFcOm_a",
        "outputId": "ea879410-f067-4f22-9eed-c9ceb53e6381"
      },
      "outputs": [
        {
          "name": "stdout",
          "output_type": "stream",
          "text": [
            "Device: cuda\n",
            "\n",
            "Tiempo promedio para NumPy: 0.0012196040153503419 segundos\n",
            "Tiempo promedio para PyTorch en GPU: 0.0012101292610168456 segundos\n"
          ]
        }
      ],
      "source": [
        "import time\n",
        "import numpy as np\n",
        "import torch\n",
        "\n",
        "#Vemos el si está la GPU disponible\n",
        "device = torch.device(\"cuda\" if torch.cuda.is_available() else \"cpu\")\n",
        "print(f\"Device: {device}\")\n",
        "\n",
        "#Las matrices aleatorias que vamos a multiplicar\n",
        "M1 = np.random.rand(1000, 1000)\n",
        "M2 = np.random.rand(1000, 1000)\n",
        "\n",
        "#Pasamos las matrices a gpu\n",
        "TM1 = torch.from_numpy(M1)\n",
        "TM2 = torch.from_numpy(M2)\n",
        "\n",
        "t_numpy = 0\n",
        "t_gpu = 0\n",
        "\n",
        "for _ in range(100):\n",
        "    inicio = time.time()\n",
        "    resultado_numpy = M1 * M2\n",
        "    fin = time.time()\n",
        "    t_numpy += fin - inicio\n",
        "\n",
        "\n",
        "\n",
        "for _ in range(100):\n",
        "    inicio = time.time()\n",
        "    resultado_gpu = TM1*TM2\n",
        "    torch.cuda.synchronize()\n",
        "    fin = time.time()\n",
        "    t_gpu += fin - inicio\n",
        "\n",
        "t_promedio_numpy = t_numpy / 100\n",
        "t_promedio_pytorch_gpu = t_gpu / 100\n",
        "\n",
        "print(f\"\\nTiempo promedio para NumPy: {t_promedio_numpy} segundos\")\n",
        "print(f\"Tiempo promedio para PyTorch en GPU: {t_promedio_pytorch_gpu} segundos\")"
      ]
    }
  ],
  "metadata": {
    "accelerator": "GPU",
    "colab": {
      "gpuType": "T4",
      "provenance": []
    },
    "kernelspec": {
      "display_name": "Python 3",
      "name": "python3"
    },
    "language_info": {
      "codemirror_mode": {
        "name": "ipython",
        "version": 3
      },
      "file_extension": ".py",
      "mimetype": "text/x-python",
      "name": "python",
      "nbconvert_exporter": "python",
      "pygments_lexer": "ipython3",
      "version": "3.11.4"
    }
  },
  "nbformat": 4,
  "nbformat_minor": 0
}
